{
 "cells": [
  {
   "cell_type": "markdown",
   "id": "7207ba5c-2322-41f9-a805-efe7ac5044eb",
   "metadata": {},
   "source": [
    "# Train a CNN classifier on all datasets (binary)"
   ]
  },
  {
   "cell_type": "code",
   "execution_count": 1,
   "id": "ddfedb3d-1205-4b3c-bbf5-3bf548a81ea8",
   "metadata": {},
   "outputs": [
    {
     "name": "stderr",
     "output_type": "stream",
     "text": [
      "2023-04-04 11:08:47.539275: I tensorflow/core/platform/cpu_feature_guard.cc:193] This TensorFlow binary is optimized with oneAPI Deep Neural Network Library (oneDNN) to use the following CPU instructions in performance-critical operations:  SSE4.1 SSE4.2 AVX AVX2 AVX512F FMA\n",
      "To enable them in other operations, rebuild TensorFlow with the appropriate compiler flags.\n",
      "ERROR 1: PROJ: proj_create_from_database: Open of /jetfs/home/lbrunner/.conda/envs/model_learning/share/proj failed\n"
     ]
    }
   ],
   "source": [
    "import os\n",
    "import sys\n",
    "import numpy as np\n",
    "import xarray as xr\n",
    "import tensorflow.keras as keras\n",
    "from tensorflow.keras.preprocessing.image import ImageDataGenerator\n",
    "from tensorflow.keras.models import load_model\n",
    "sys.path.append('../')\n",
    "\n",
    "import core.core_functions as cf\n",
    "import core.dataset_functions as df\n",
    "import core.plot_functions as pf\n",
    "from core.classifiers import deep_classifier\n",
    "\n",
    "land_masked = True\n",
    "global_mean = True\n",
    "dataset_type = 'deseas_historical'\n",
    "# set to a not-None value to draw the same random samples for repeated calls\n",
    "random_init = 6546\n",
    "\n",
    "savename_append = ''"
   ]
  },
  {
   "cell_type": "markdown",
   "id": "965f377d-2125-4558-87a7-c2ae660336fb",
   "metadata": {},
   "source": [
    "## Load and prepare training samples"
   ]
  },
  {
   "cell_type": "code",
   "execution_count": 2,
   "id": "d69bb5ba-c03e-4ed1-9862-4a9df0dbc69c",
   "metadata": {},
   "outputs": [
    {
     "name": "stdout",
     "output_type": "stream",
     "text": [
      "Number of datasets: 43\n",
      "Loaded dataset ACCESS-CM2\n",
      "Loaded dataset ACCESS-ESM1-5\n",
      "Loaded dataset AWI-CM-1-1-MR\n",
      "Loaded dataset AWI-ESM-1-1-LR\n",
      "Loaded dataset BCC-CSM2-MR\n",
      "Loaded dataset BCC-ESM1\n",
      "Loaded dataset CAMS-CSM1-0\n",
      "Loaded dataset CESM2-WACCM\n",
      "Loaded dataset CESM2\n",
      "Loaded dataset CMCC-CM2-HR4\n",
      "Loaded dataset CMCC-CM2-SR5\n",
      "Loaded dataset CMCC-ESM2\n",
      "Loaded dataset CNRM-CM6-1-HR\n",
      "Loaded dataset CNRM-CM6-1\n",
      "Loaded dataset CNRM-ESM2-1\n",
      "Loaded dataset CanESM5\n",
      "Loaded dataset EC-Earth3-AerChem\n",
      "Loaded dataset EC-Earth3-Veg-LR\n",
      "Loaded dataset EC-Earth3-Veg\n",
      "Loaded dataset EC-Earth3\n",
      "Loaded dataset FGOALS-f3-L\n",
      "Loaded dataset FGOALS-g3\n",
      "Loaded dataset GFDL-CM4\n",
      "Loaded dataset GFDL-ESM4\n",
      "Loaded dataset HadGEM3-GC31-LL\n",
      "Loaded dataset HadGEM3-GC31-MM\n",
      "Loaded dataset INM-CM4-8\n",
      "Loaded dataset INM-CM5-0\n",
      "Loaded dataset IPSL-CM5A2-INCA\n",
      "Loaded dataset IPSL-CM6A-LR\n",
      "Loaded dataset KACE-1-0-G\n",
      "Loaded dataset KIOST-ESM\n",
      "Loaded dataset MIROC-ES2L\n",
      "Loaded dataset MIROC6\n",
      "Loaded dataset MPI-ESM-1-2-HAM\n",
      "Loaded dataset MPI-ESM1-2-HR\n",
      "Loaded dataset MPI-ESM1-2-LR\n",
      "Loaded dataset MRI-ESM2-0\n",
      "Loaded dataset NESM3\n",
      "Loaded dataset NorESM2-LM\n",
      "Loaded dataset NorESM2-MM\n",
      "Loaded dataset TaiESM1\n",
      "Loaded dataset UKESM1-0-LL\n",
      "Number of samples: 8600\n",
      "Number of datasets: 4\n",
      "Loaded dataset 20CR\n",
      "Loaded dataset ERA5\n",
      "Loaded dataset IOSST\n",
      "Loaded dataset MERRA2\n",
      "Number of samples: 8600\n",
      "Number of datasets: 43\n",
      "Loaded dataset ACCESS-CM2\n",
      "Loaded dataset ACCESS-ESM1-5\n",
      "Loaded dataset AWI-CM-1-1-MR\n",
      "Loaded dataset AWI-ESM-1-1-LR\n",
      "Loaded dataset BCC-CSM2-MR\n",
      "Loaded dataset BCC-ESM1\n",
      "Loaded dataset CAMS-CSM1-0\n",
      "Loaded dataset CESM2-WACCM\n",
      "Loaded dataset CESM2\n",
      "Loaded dataset CMCC-CM2-HR4\n",
      "Loaded dataset CMCC-CM2-SR5\n",
      "Loaded dataset CMCC-ESM2\n",
      "Loaded dataset CNRM-CM6-1-HR\n",
      "Loaded dataset CNRM-CM6-1\n",
      "Loaded dataset CNRM-ESM2-1\n",
      "Loaded dataset CanESM5\n",
      "Loaded dataset EC-Earth3-AerChem\n",
      "Loaded dataset EC-Earth3-Veg-LR\n",
      "Loaded dataset EC-Earth3-Veg\n",
      "Loaded dataset EC-Earth3\n",
      "Loaded dataset FGOALS-f3-L\n",
      "Loaded dataset FGOALS-g3\n",
      "Loaded dataset GFDL-CM4\n",
      "Loaded dataset GFDL-ESM4\n",
      "Loaded dataset HadGEM3-GC31-LL\n",
      "Loaded dataset HadGEM3-GC31-MM\n",
      "Loaded dataset INM-CM4-8\n",
      "Loaded dataset INM-CM5-0\n",
      "Loaded dataset IPSL-CM5A2-INCA\n",
      "Loaded dataset IPSL-CM6A-LR\n",
      "Loaded dataset KACE-1-0-G\n",
      "Loaded dataset KIOST-ESM\n",
      "Loaded dataset MIROC-ES2L\n",
      "Loaded dataset MIROC6\n",
      "Loaded dataset MPI-ESM-1-2-HAM\n",
      "Loaded dataset MPI-ESM1-2-HR\n",
      "Loaded dataset MPI-ESM1-2-LR\n",
      "Loaded dataset MRI-ESM2-0\n",
      "Loaded dataset NESM3\n",
      "Loaded dataset NorESM2-LM\n",
      "Loaded dataset NorESM2-MM\n",
      "Loaded dataset TaiESM1\n",
      "Loaded dataset UKESM1-0-LL\n",
      "Number of samples: 2150\n",
      "Number of datasets: 4\n",
      "Loaded dataset 20CR\n",
      "Loaded dataset ERA5\n",
      "Loaded dataset IOSST\n",
      "Loaded dataset MERRA2\n",
      "Number of samples: 2148\n"
     ]
    }
   ],
   "source": [
    "samples_train_model = cf.get_samples(\n",
    "    period=slice('1982', '1996'), \n",
    "    land_masked=land_masked,\n",
    "    global_mean=global_mean,\n",
    "    dataset_type=dataset_type,\n",
    "    time_steps=200, \n",
    "    random_init=random_init, \n",
    "    verbose=True, \n",
    "    datasets=df.model_names,\n",
    ")\n",
    "samples_train_obs = cf.get_samples(\n",
    "    period=slice('1982', '1996'), \n",
    "    land_masked=land_masked,\n",
    "    global_mean=global_mean,\n",
    "    dataset_type=dataset_type,\n",
    "    time_steps=2150,  # 200*43/4\n",
    "    random_init=random_init, \n",
    "    verbose=True,\n",
    "    datasets=df.observation_names,  # 4 observations\n",
    ")\n",
    "samples_train = xr.concat([samples_train_model, samples_train_obs], dim='sample')\n",
    "\n",
    "samples_valid_model = cf.get_samples(\n",
    "    period=slice('1997', '2001'), \n",
    "    land_masked=land_masked,\n",
    "    global_mean=global_mean,\n",
    "    dataset_type=dataset_type,\n",
    "    time_steps=50, \n",
    "    random_init=random_init+1, \n",
    "    verbose=True, \n",
    "    datasets=df.model_names,\n",
    ")\n",
    "samples_valid_obs = cf.get_samples(\n",
    "    period=slice('1997', '2001'), \n",
    "    land_masked=land_masked,\n",
    "    global_mean=global_mean,\n",
    "    dataset_type=dataset_type,\n",
    "    time_steps=537,  # 50*43/4\n",
    "    random_init=random_init+1, \n",
    "    verbose=True,\n",
    "    datasets=df.observation_names,  # 4 observations\n",
    ")\n",
    "samples_valid = xr.concat([samples_valid_model, samples_valid_obs], dim='sample')"
   ]
  },
  {
   "cell_type": "code",
   "execution_count": 3,
   "id": "82f6a790-79c5-42a6-8856-aea959c27cbf",
   "metadata": {},
   "outputs": [
    {
     "name": "stdout",
     "output_type": "stream",
     "text": [
      "Number of non-nan features: 6888\n",
      "Number of training samples: 17200\n",
      "Number of categories: 2\n",
      "Number of samples per dataset: {'20CR': 2150, 'ACCESS-CM2': 200, 'ACCESS-ESM1-5': 200, 'AWI-CM-1-1-MR': 200, 'AWI-ESM-1-1-LR': 200, 'BCC-CSM2-MR': 200, 'BCC-ESM1': 200, 'CAMS-CSM1-0': 200, 'CESM2': 200, 'CESM2-WACCM': 200, 'CMCC-CM2-HR4': 200, 'CMCC-CM2-SR5': 200, 'CMCC-ESM2': 200, 'CNRM-CM6-1': 200, 'CNRM-CM6-1-HR': 200, 'CNRM-ESM2-1': 200, 'CanESM5': 200, 'EC-Earth3': 200, 'EC-Earth3-AerChem': 200, 'EC-Earth3-Veg': 200, 'EC-Earth3-Veg-LR': 200, 'ERA5': 2150, 'FGOALS-f3-L': 200, 'FGOALS-g3': 200, 'GFDL-CM4': 200, 'GFDL-ESM4': 200, 'HadGEM3-GC31-LL': 200, 'HadGEM3-GC31-MM': 200, 'INM-CM4-8': 200, 'INM-CM5-0': 200, 'IOSST': 2150, 'IPSL-CM5A2-INCA': 200, 'IPSL-CM6A-LR': 200, 'KACE-1-0-G': 200, 'KIOST-ESM': 200, 'MERRA2': 2150, 'MIROC-ES2L': 200, 'MIROC6': 200, 'MPI-ESM-1-2-HAM': 200, 'MPI-ESM1-2-HR': 200, 'MPI-ESM1-2-LR': 200, 'MRI-ESM2-0': 200, 'NESM3': 200, 'NorESM2-LM': 200, 'NorESM2-MM': 200, 'TaiESM1': 200, 'UKESM1-0-LL': 200}\n"
     ]
    }
   ],
   "source": [
    "X_train = samples_train.transpose('sample', 'lat', 'lon').values\n",
    "X_valid = samples_valid.transpose('sample', 'lat', 'lon').values\n",
    "X_train = X_train.reshape(*X_train.shape, 1)  # add a color channel\n",
    "X_valid = X_valid.reshape(*X_valid.shape, 1) \n",
    "\n",
    "y_valid = df.get_category_ids(samples_valid['dataset_name'].values)\n",
    "y_train = df.get_category_ids(samples_train['dataset_name'].values)\n",
    "\n",
    "nan_mask = np.any(np.isnan(X_train), axis=0).squeeze()\n",
    "X_train[:, nan_mask, :] = 0  # set nan to constant value\n",
    "X_valid[:, nan_mask, :] = 0\n",
    "\n",
    "print('Number of non-nan features:', (~nan_mask).sum())\n",
    "print('Number of training samples:', len(y_train))\n",
    "print('Number of categories:' , len(np.unique(y_train)))\n",
    "\n",
    "print('Number of samples per dataset:', \n",
    "      {dataset: count for dataset, count in zip(*np.unique(samples_train['dataset_name'].values, return_counts=True))})\n",
    "\n",
    "train_generator = ImageDataGenerator() \n",
    "valid_generator = ImageDataGenerator() \n",
    "trainset = train_generator.flow(X_train, y_train)\n",
    "validset = valid_generator.flow(X_valid, y_valid, shuffle=False)"
   ]
  },
  {
   "cell_type": "markdown",
   "id": "658cbb8d-c9d5-49da-91e9-1cbe45cafb1c",
   "metadata": {},
   "source": [
    "## Set up classifier"
   ]
  },
  {
   "cell_type": "code",
   "execution_count": 4,
   "id": "9c10bfae-3107-4c9c-b4a1-d0b9bfde275b",
   "metadata": {},
   "outputs": [
    {
     "name": "stdout",
     "output_type": "stream",
     "text": [
      "Model: \"sequential\"\n",
      "_________________________________________________________________\n",
      " Layer (type)                Output Shape              Param #   \n",
      "=================================================================\n",
      " conv2d (Conv2D)             (None, 36, 72, 128)       3328      \n",
      "                                                                 \n",
      " max_pooling2d (MaxPooling2D  (None, 9, 18, 128)       0         \n",
      " )                                                               \n",
      "                                                                 \n",
      " conv2d_1 (Conv2D)           (None, 9, 18, 64)         73792     \n",
      "                                                                 \n",
      " max_pooling2d_1 (MaxPooling  (None, 4, 9, 64)         0         \n",
      " 2D)                                                             \n",
      "                                                                 \n",
      " conv2d_2 (Conv2D)           (None, 4, 9, 64)          36928     \n",
      "                                                                 \n",
      " max_pooling2d_2 (MaxPooling  (None, 2, 4, 64)         0         \n",
      " 2D)                                                             \n",
      "                                                                 \n",
      " conv2d_3 (Conv2D)           (None, 2, 4, 32)          8224      \n",
      "                                                                 \n",
      " max_pooling2d_3 (MaxPooling  (None, 1, 2, 32)         0         \n",
      " 2D)                                                             \n",
      "                                                                 \n",
      " flatten (Flatten)           (None, 64)                0         \n",
      "                                                                 \n",
      " dense (Dense)               (None, 2)                 130       \n",
      "                                                                 \n",
      "=================================================================\n",
      "Total params: 122,402\n",
      "Trainable params: 122,402\n",
      "Non-trainable params: 0\n",
      "_________________________________________________________________\n"
     ]
    },
    {
     "name": "stderr",
     "output_type": "stream",
     "text": [
      "2023-04-04 11:16:38.181603: I tensorflow/core/platform/cpu_feature_guard.cc:193] This TensorFlow binary is optimized with oneAPI Deep Neural Network Library (oneDNN) to use the following CPU instructions in performance-critical operations:  SSE4.1 SSE4.2 AVX AVX2 AVX512F FMA\n",
      "To enable them in other operations, rebuild TensorFlow with the appropriate compiler flags.\n"
     ]
    },
    {
     "name": "stdout",
     "output_type": "stream",
     "text": [
      "Epoch 1/50\n",
      "538/538 [==============================] - 213s 390ms/step - loss: 0.4175 - acc: 0.7922 - val_loss: 0.3689 - val_acc: 0.8485\n",
      "Epoch 2/50\n",
      "538/538 [==============================] - 220s 410ms/step - loss: 0.1311 - acc: 0.9477 - val_loss: 0.2098 - val_acc: 0.9155\n",
      "Epoch 3/50\n",
      "538/538 [==============================] - 220s 408ms/step - loss: 0.0716 - acc: 0.9726 - val_loss: 0.2454 - val_acc: 0.9130\n",
      "Epoch 4/50\n",
      "538/538 [==============================] - 219s 408ms/step - loss: 0.0435 - acc: 0.9843 - val_loss: 0.4966 - val_acc: 0.8744\n",
      "Epoch 5/50\n",
      "538/538 [==============================] - 219s 407ms/step - loss: 0.0427 - acc: 0.9839 - val_loss: 0.1862 - val_acc: 0.9390\n",
      "Epoch 6/50\n",
      "538/538 [==============================] - 219s 406ms/step - loss: 0.0463 - acc: 0.9823 - val_loss: 0.2066 - val_acc: 0.9356\n",
      "Epoch 7/50\n",
      "538/538 [==============================] - 227s 423ms/step - loss: 0.0295 - acc: 0.9884 - val_loss: 0.2137 - val_acc: 0.9358\n",
      "Epoch 8/50\n",
      "538/538 [==============================] - 240s 446ms/step - loss: 0.0292 - acc: 0.9907 - val_loss: 0.2919 - val_acc: 0.9055\n"
     ]
    }
   ],
   "source": [
    "classifier = deep_classifier(\n",
    "    input_shape=X_train.shape[1:], \n",
    "    output_shape=len(np.unique(y_train))\n",
    ")\n",
    "classifier.summary()\n",
    "\n",
    "early_stopping = keras.callbacks.EarlyStopping(monitor='val_acc', patience=3)\n",
    "\n",
    "history = classifier.fit(\n",
    "    trainset,\n",
    "    validation_data=validset,\n",
    "    epochs=50, \n",
    "    callbacks=[early_stopping],\n",
    ")"
   ]
  },
  {
   "cell_type": "markdown",
   "id": "d43400ec-aea5-452e-9832-dea033e287c0",
   "metadata": {},
   "source": [
    "## Save trained classifier"
   ]
  },
  {
   "cell_type": "code",
   "execution_count": 5,
   "id": "b483f796-80b0-45a7-abec-b1dfc3a5b282",
   "metadata": {},
   "outputs": [],
   "source": [
    "savename =  'binary_cnn_{}{}{}.h5'.format(\n",
    "    dataset_type,\n",
    "    ('_lm' if land_masked else '') + ('_gm' if global_mean else ''),\n",
    "    savename_append\n",
    ")\n",
    "\n",
    "classifier.save(os.path.join('../../data/trained_classifiers', savename))"
   ]
  },
  {
   "cell_type": "markdown",
   "id": "a723df0d-05fb-43ef-881b-af4c710c3896",
   "metadata": {},
   "source": [
    "## Reliability diagram"
   ]
  },
  {
   "cell_type": "code",
   "execution_count": 6,
   "id": "32e10118-4bab-4f0e-901b-8debd6554259",
   "metadata": {},
   "outputs": [
    {
     "name": "stdout",
     "output_type": "stream",
     "text": [
      "135/135 [==============================] - 13s 92ms/step\n"
     ]
    },
    {
     "data": {
      "text/plain": [
       "<AxesSubplot: xlabel='Confidence', ylabel='Accuracy'>"
      ]
     },
     "execution_count": 6,
     "metadata": {},
     "output_type": "execute_result"
    },
    {
     "data": {
      "image/png": "[encoded data removed]",
      "text/plain": [
       "<Figure size 640x480 with 1 Axes>"
      ]
     },
     "metadata": {},
     "output_type": "display_data"
    }
   ],
   "source": [
    "pf.plot_reliability_diagram(classifier, validset)"
   ]
  }
 ],
 "metadata": {
  "kernelspec": {
   "display_name": "Model Learning",
   "language": "python",
   "name": "model_learning"
  },
  "language_info": {
   "codemirror_mode": {
    "name": "ipython",
    "version": 3
   },
   "file_extension": ".py",
   "mimetype": "text/x-python",
   "name": "python",
   "nbconvert_exporter": "python",
   "pygments_lexer": "ipython3",
   "version": "3.10.6"
  }
 },
 "nbformat": 4,
 "nbformat_minor": 5
}
