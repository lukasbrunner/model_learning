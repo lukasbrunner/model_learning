{
 "cells": [
  {
   "cell_type": "markdown",
   "id": "7207ba5c-2322-41f9-a805-efe7ac5044eb",
   "metadata": {},
   "source": [
    "# Train a CNN classifier on all datasets (binary)"
   ]
  },
  {
   "cell_type": "code",
   "execution_count": 15,
   "id": "ddfedb3d-1205-4b3c-bbf5-3bf548a81ea8",
   "metadata": {},
   "outputs": [],
   "source": [
    "import os\n",
    "import sys\n",
    "import pickle\n",
    "import numpy as np\n",
    "import xarray as xr\n",
    "import tensorflow.keras as keras\n",
    "from tensorflow.keras.preprocessing.image import ImageDataGenerator\n",
    "from tensorflow.keras.models import load_model\n",
    "sys.path.append('../')\n",
    "\n",
    "import core.core_functions as cf\n",
    "import core.dataset_functions as df\n",
    "import core.plot_functions as pf\n",
    "from core.classifiers import deep_classifier\n",
    "\n",
    "land_masked = True\n",
    "global_mean = True\n",
    "dataset_type = 'deseas_historical'\n",
    "# set to a not-None value to draw the same random samples for repeated calls\n",
    "random_init = 6546\n",
    "\n",
    "savename_append = ''"
   ]
  },
  {
   "cell_type": "markdown",
   "id": "965f377d-2125-4558-87a7-c2ae660336fb",
   "metadata": {},
   "source": [
    "## Load and prepare training samples"
   ]
  },
  {
   "cell_type": "code",
   "execution_count": 16,
   "id": "d69bb5ba-c03e-4ed1-9862-4a9df0dbc69c",
   "metadata": {},
   "outputs": [
    {
     "name": "stdout",
     "output_type": "stream",
     "text": [
      "Number of datasets: 47\n",
      "Loaded dataset 20CR\n",
      "Loaded dataset ACCESS-CM2\n",
      "Loaded dataset ACCESS-ESM1-5\n",
      "Loaded dataset AWI-CM-1-1-MR\n",
      "Loaded dataset AWI-ESM-1-1-LR\n",
      "Loaded dataset BCC-CSM2-MR\n",
      "Loaded dataset BCC-ESM1\n",
      "Loaded dataset CAMS-CSM1-0\n",
      "Loaded dataset CESM2-WACCM\n",
      "Loaded dataset CESM2\n",
      "Loaded dataset CMCC-CM2-HR4\n",
      "Loaded dataset CMCC-CM2-SR5\n",
      "Loaded dataset CMCC-ESM2\n",
      "Loaded dataset CNRM-CM6-1-HR\n",
      "Loaded dataset CNRM-CM6-1\n",
      "Loaded dataset CNRM-ESM2-1\n",
      "Loaded dataset CanESM5\n",
      "Loaded dataset EC-Earth3-AerChem\n",
      "Loaded dataset EC-Earth3-Veg-LR\n",
      "Loaded dataset EC-Earth3-Veg\n",
      "Loaded dataset EC-Earth3\n",
      "Loaded dataset ERA5\n",
      "Loaded dataset FGOALS-f3-L\n",
      "Loaded dataset FGOALS-g3\n",
      "Loaded dataset GFDL-CM4\n",
      "Loaded dataset GFDL-ESM4\n",
      "Loaded dataset HadGEM3-GC31-LL\n",
      "Loaded dataset HadGEM3-GC31-MM\n",
      "Loaded dataset INM-CM4-8\n",
      "Loaded dataset INM-CM5-0\n",
      "Loaded dataset IOSST\n",
      "Loaded dataset IPSL-CM5A2-INCA\n",
      "Loaded dataset IPSL-CM6A-LR\n",
      "Loaded dataset KACE-1-0-G\n",
      "Loaded dataset KIOST-ESM\n",
      "Loaded dataset MERRA2\n",
      "Loaded dataset MIROC-ES2L\n",
      "Loaded dataset MIROC6\n",
      "Loaded dataset MPI-ESM-1-2-HAM\n",
      "Loaded dataset MPI-ESM1-2-HR\n",
      "Loaded dataset MPI-ESM1-2-LR\n",
      "Loaded dataset MRI-ESM2-0\n",
      "Loaded dataset NESM3\n",
      "Loaded dataset NorESM2-LM\n",
      "Loaded dataset NorESM2-MM\n",
      "Loaded dataset TaiESM1\n",
      "Loaded dataset UKESM1-0-LL\n",
      "Number of samples: 94000\n",
      "Number of datasets: 47\n",
      "Loaded dataset 20CR\n",
      "Loaded dataset ACCESS-CM2\n",
      "Loaded dataset ACCESS-ESM1-5\n",
      "Loaded dataset AWI-CM-1-1-MR\n",
      "Loaded dataset AWI-ESM-1-1-LR\n",
      "Loaded dataset BCC-CSM2-MR\n",
      "Loaded dataset BCC-ESM1\n",
      "Loaded dataset CAMS-CSM1-0\n",
      "Loaded dataset CESM2-WACCM\n",
      "Loaded dataset CESM2\n",
      "Loaded dataset CMCC-CM2-HR4\n",
      "Loaded dataset CMCC-CM2-SR5\n",
      "Loaded dataset CMCC-ESM2\n",
      "Loaded dataset CNRM-CM6-1-HR\n",
      "Loaded dataset CNRM-CM6-1\n",
      "Loaded dataset CNRM-ESM2-1\n",
      "Loaded dataset CanESM5\n",
      "Loaded dataset EC-Earth3-AerChem\n",
      "Loaded dataset EC-Earth3-Veg-LR\n",
      "Loaded dataset EC-Earth3-Veg\n",
      "Loaded dataset EC-Earth3\n",
      "Loaded dataset ERA5\n",
      "Loaded dataset FGOALS-f3-L\n",
      "Loaded dataset FGOALS-g3\n",
      "Loaded dataset GFDL-CM4\n",
      "Loaded dataset GFDL-ESM4\n",
      "Loaded dataset HadGEM3-GC31-LL\n",
      "Loaded dataset HadGEM3-GC31-MM\n",
      "Loaded dataset INM-CM4-8\n",
      "Loaded dataset INM-CM5-0\n",
      "Loaded dataset IOSST\n",
      "Loaded dataset IPSL-CM5A2-INCA\n",
      "Loaded dataset IPSL-CM6A-LR\n",
      "Loaded dataset KACE-1-0-G\n",
      "Loaded dataset KIOST-ESM\n",
      "Loaded dataset MERRA2\n",
      "Loaded dataset MIROC-ES2L\n",
      "Loaded dataset MIROC6\n",
      "Loaded dataset MPI-ESM-1-2-HAM\n",
      "Loaded dataset MPI-ESM1-2-HR\n",
      "Loaded dataset MPI-ESM1-2-LR\n",
      "Loaded dataset MRI-ESM2-0\n",
      "Loaded dataset NESM3\n",
      "Loaded dataset NorESM2-LM\n",
      "Loaded dataset NorESM2-MM\n",
      "Loaded dataset TaiESM1\n",
      "Loaded dataset UKESM1-0-LL\n",
      "Number of samples: 23500\n"
     ]
    }
   ],
   "source": [
    "samples_train = cf.get_samples(\n",
    "    period=slice('1982', '1996'), \n",
    "    land_masked=land_masked,\n",
    "    global_mean=global_mean,\n",
    "    dataset_type=dataset_type,\n",
    "    time_steps=2000, \n",
    "    random_init=random_init, \n",
    "    verbose=True, \n",
    ")\n",
    "\n",
    "samples_valid = cf.get_samples(\n",
    "    period=slice('1997', '2001'), \n",
    "    land_masked=land_masked,\n",
    "    global_mean=global_mean,\n",
    "    dataset_type=dataset_type,\n",
    "    time_steps=500,\n",
    "    random_init=random_init+1, \n",
    "    verbose=True,\n",
    ")"
   ]
  },
  {
   "cell_type": "code",
   "execution_count": 17,
   "id": "82f6a790-79c5-42a6-8856-aea959c27cbf",
   "metadata": {},
   "outputs": [
    {
     "name": "stdout",
     "output_type": "stream",
     "text": [
      "Number of non-nan features: 6888\n",
      "Number of training samples: 94000\n",
      "Number of categories: 47\n",
      "Number of samples per dataset: {'20CR': 2000, 'ACCESS-CM2': 2000, 'ACCESS-ESM1-5': 2000, 'AWI-CM-1-1-MR': 2000, 'AWI-ESM-1-1-LR': 2000, 'BCC-CSM2-MR': 2000, 'BCC-ESM1': 2000, 'CAMS-CSM1-0': 2000, 'CESM2': 2000, 'CESM2-WACCM': 2000, 'CMCC-CM2-HR4': 2000, 'CMCC-CM2-SR5': 2000, 'CMCC-ESM2': 2000, 'CNRM-CM6-1': 2000, 'CNRM-CM6-1-HR': 2000, 'CNRM-ESM2-1': 2000, 'CanESM5': 2000, 'EC-Earth3': 2000, 'EC-Earth3-AerChem': 2000, 'EC-Earth3-Veg': 2000, 'EC-Earth3-Veg-LR': 2000, 'ERA5': 2000, 'FGOALS-f3-L': 2000, 'FGOALS-g3': 2000, 'GFDL-CM4': 2000, 'GFDL-ESM4': 2000, 'HadGEM3-GC31-LL': 2000, 'HadGEM3-GC31-MM': 2000, 'INM-CM4-8': 2000, 'INM-CM5-0': 2000, 'IOSST': 2000, 'IPSL-CM5A2-INCA': 2000, 'IPSL-CM6A-LR': 2000, 'KACE-1-0-G': 2000, 'KIOST-ESM': 2000, 'MERRA2': 2000, 'MIROC-ES2L': 2000, 'MIROC6': 2000, 'MPI-ESM-1-2-HAM': 2000, 'MPI-ESM1-2-HR': 2000, 'MPI-ESM1-2-LR': 2000, 'MRI-ESM2-0': 2000, 'NESM3': 2000, 'NorESM2-LM': 2000, 'NorESM2-MM': 2000, 'TaiESM1': 2000, 'UKESM1-0-LL': 2000}\n"
     ]
    }
   ],
   "source": [
    "X_train = samples_train.transpose('sample', 'lat', 'lon').values\n",
    "X_valid = samples_valid.transpose('sample', 'lat', 'lon').values\n",
    "X_train = X_train.reshape(*X_train.shape, 1)  # add a color channel\n",
    "X_valid = X_valid.reshape(*X_valid.shape, 1) \n",
    "\n",
    "y_train = df.get_dataset_ids(samples_train['dataset_name'].values)\n",
    "y_valid = df.get_dataset_ids(samples_valid['dataset_name'].values)\n",
    "\n",
    "nan_mask = np.any(np.isnan(X_train), axis=0).squeeze()\n",
    "X_train[:, nan_mask, :] = 0  # set nan to constant value\n",
    "X_valid[:, nan_mask, :] = 0\n",
    "\n",
    "print('Number of non-nan features:', (~nan_mask).sum())\n",
    "print('Number of training samples:', len(y_train))\n",
    "print('Number of categories:' , len(np.unique(y_train)))\n",
    "\n",
    "print('Number of samples per dataset:', \n",
    "      {dataset: count for dataset, count in zip(*np.unique(samples_train['dataset_name'].values, return_counts=True))})\n",
    "\n",
    "train_generator = ImageDataGenerator() \n",
    "valid_generator = ImageDataGenerator() \n",
    "trainset = train_generator.flow(X_train, y_train)\n",
    "validset = valid_generator.flow(X_valid, y_valid, shuffle=False)"
   ]
  },
  {
   "cell_type": "markdown",
   "id": "658cbb8d-c9d5-49da-91e9-1cbe45cafb1c",
   "metadata": {},
   "source": [
    "## Set up classifier"
   ]
  },
  {
   "cell_type": "code",
   "execution_count": 18,
   "id": "9c10bfae-3107-4c9c-b4a1-d0b9bfde275b",
   "metadata": {},
   "outputs": [
    {
     "name": "stdout",
     "output_type": "stream",
     "text": [
      "Model: \"sequential\"\n",
      "_________________________________________________________________\n",
      " Layer (type)                Output Shape              Param #   \n",
      "=================================================================\n",
      " conv2d (Conv2D)             (None, 36, 72, 128)       3328      \n",
      "                                                                 \n",
      " max_pooling2d (MaxPooling2D  (None, 9, 18, 128)       0         \n",
      " )                                                               \n",
      "                                                                 \n",
      " conv2d_1 (Conv2D)           (None, 9, 18, 64)         73792     \n",
      "                                                                 \n",
      " max_pooling2d_1 (MaxPooling  (None, 4, 9, 64)         0         \n",
      " 2D)                                                             \n",
      "                                                                 \n",
      " conv2d_2 (Conv2D)           (None, 4, 9, 64)          36928     \n",
      "                                                                 \n"
     ]
    },
    {
     "name": "stderr",
     "output_type": "stream",
     "text": [
      "2023-04-04 11:19:32.868473: I tensorflow/core/platform/cpu_feature_guard.cc:193] This TensorFlow binary is optimized with oneAPI Deep Neural Network Library (oneDNN) to use the following CPU instructions in performance-critical operations:  SSE4.1 SSE4.2 AVX AVX2 AVX512F FMA\n",
      "To enable them in other operations, rebuild TensorFlow with the appropriate compiler flags.\n"
     ]
    },
    {
     "name": "stdout",
     "output_type": "stream",
     "text": [
      " max_pooling2d_2 (MaxPooling  (None, 2, 4, 64)         0         \n",
      " 2D)                                                             \n",
      "                                                                 \n",
      " conv2d_3 (Conv2D)           (None, 2, 4, 32)          8224      \n",
      "                                                                 \n",
      " max_pooling2d_3 (MaxPooling  (None, 1, 2, 32)         0         \n",
      " 2D)                                                             \n",
      "                                                                 \n",
      " flatten (Flatten)           (None, 64)                0         \n",
      "                                                                 \n",
      " dense (Dense)               (None, 47)                3055      \n",
      "                                                                 \n",
      "=================================================================\n",
      "Total params: 125,327\n",
      "Trainable params: 125,327\n",
      "Non-trainable params: 0\n",
      "_________________________________________________________________\n",
      "Epoch 1/50\n",
      "2938/2938 [==============================] - 1194s 406ms/step - loss: 1.9071 - acc: 0.4297 - val_loss: 1.0914 - val_acc: 0.6160\n",
      "Epoch 2/50\n",
      "2938/2938 [==============================] - 800s 272ms/step - loss: 0.7467 - acc: 0.7289 - val_loss: 0.7871 - val_acc: 0.7156\n",
      "Epoch 3/50\n",
      "2938/2938 [==============================] - 593s 202ms/step - loss: 0.5148 - acc: 0.8051 - val_loss: 0.6866 - val_acc: 0.7508\n",
      "Epoch 4/50\n",
      "2938/2938 [==============================] - 565s 192ms/step - loss: 0.4256 - acc: 0.8363 - val_loss: 0.5562 - val_acc: 0.7877\n",
      "Epoch 5/50\n",
      "2938/2938 [==============================] - 564s 192ms/step - loss: 0.3598 - acc: 0.8592 - val_loss: 0.5680 - val_acc: 0.7920\n",
      "Epoch 6/50\n",
      "2938/2938 [==============================] - 564s 192ms/step - loss: 0.3287 - acc: 0.8728 - val_loss: 0.5894 - val_acc: 0.7917\n",
      "Epoch 7/50\n",
      "2938/2938 [==============================] - 1000s 341ms/step - loss: 0.3009 - acc: 0.8816 - val_loss: 0.5418 - val_acc: 0.8030\n",
      "Epoch 8/50\n",
      "2938/2938 [==============================] - 1175s 400ms/step - loss: 0.2837 - acc: 0.8896 - val_loss: 0.5468 - val_acc: 0.8049\n",
      "Epoch 9/50\n",
      "2938/2938 [==============================] - 562s 191ms/step - loss: 0.2702 - acc: 0.8947 - val_loss: 0.4904 - val_acc: 0.8208\n",
      "Epoch 10/50\n",
      "2938/2938 [==============================] - 559s 190ms/step - loss: 0.2544 - acc: 0.8999 - val_loss: 0.5115 - val_acc: 0.8185\n",
      "Epoch 11/50\n",
      "2938/2938 [==============================] - 558s 190ms/step - loss: 0.2423 - acc: 0.9052 - val_loss: 0.5204 - val_acc: 0.8240\n",
      "Epoch 12/50\n",
      "2938/2938 [==============================] - 559s 190ms/step - loss: 0.2305 - acc: 0.9108 - val_loss: 0.5806 - val_acc: 0.8115\n",
      "Epoch 13/50\n",
      "2938/2938 [==============================] - 558s 190ms/step - loss: 0.2279 - acc: 0.9116 - val_loss: 0.5484 - val_acc: 0.8190\n",
      "Epoch 14/50\n",
      "2938/2938 [==============================] - 558s 190ms/step - loss: 0.2199 - acc: 0.9153 - val_loss: 0.6964 - val_acc: 0.8076\n"
     ]
    }
   ],
   "source": [
    "classifier = deep_classifier(\n",
    "    input_shape=X_train.shape[1:], \n",
    "    output_shape=len(np.unique(y_train))\n",
    ")\n",
    "classifier.summary()\n",
    "\n",
    "early_stopping = keras.callbacks.EarlyStopping(monitor='val_acc', patience=3)\n",
    "\n",
    "history = classifier.fit(\n",
    "    trainset,\n",
    "    validation_data=validset,\n",
    "    epochs=50, \n",
    "    callbacks=[early_stopping],\n",
    ")"
   ]
  },
  {
   "cell_type": "markdown",
   "id": "d43400ec-aea5-452e-9832-dea033e287c0",
   "metadata": {},
   "source": [
    "## Save trained classifier"
   ]
  },
  {
   "cell_type": "code",
   "execution_count": 19,
   "id": "b483f796-80b0-45a7-abec-b1dfc3a5b282",
   "metadata": {},
   "outputs": [],
   "source": [
    "savename =  'multi_class_cnn_{}{}{}.h5'.format(\n",
    "    dataset_type,\n",
    "    ('_lm' if land_masked else '') + ('_gm' if global_mean else ''),\n",
    "    savename_append\n",
    ")\n",
    "\n",
    "classifier.save(os.path.join('../../data/trained_classifiers', savename))"
   ]
  },
  {
   "cell_type": "markdown",
   "id": "a723df0d-05fb-43ef-881b-af4c710c3896",
   "metadata": {},
   "source": [
    "## Reliability diagram"
   ]
  },
  {
   "cell_type": "code",
   "execution_count": 20,
   "id": "32e10118-4bab-4f0e-901b-8debd6554259",
   "metadata": {},
   "outputs": [
    {
     "name": "stdout",
     "output_type": "stream",
     "text": [
      "735/735 [==============================] - 29s 40ms/step\n"
     ]
    },
    {
     "data": {
      "text/plain": [
       "<AxesSubplot: xlabel='Confidence', ylabel='Accuracy'>"
      ]
     },
     "execution_count": 20,
     "metadata": {},
     "output_type": "execute_result"
    },
    {
     "data": {
      "image/png": "[encoded data removed]",
      "text/plain": [
       "<Figure size 640x480 with 1 Axes>"
      ]
     },
     "metadata": {},
     "output_type": "display_data"
    }
   ],
   "source": [
    "pf.plot_reliability_diagram(classifier, validset)"
   ]
  }
 ],
 "metadata": {
  "kernelspec": {
   "display_name": "Model Learning",
   "language": "python",
   "name": "model_learning"
  },
  "language_info": {
   "codemirror_mode": {
    "name": "ipython",
    "version": 3
   },
   "file_extension": ".py",
   "mimetype": "text/x-python",
   "name": "python",
   "nbconvert_exporter": "python",
   "pygments_lexer": "ipython3",
   "version": "3.10.6"
  }
 },
 "nbformat": 4,
 "nbformat_minor": 5
}
