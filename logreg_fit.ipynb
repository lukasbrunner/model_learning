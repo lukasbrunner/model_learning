{
 "cells": [
  {
   "cell_type": "markdown",
   "id": "7207ba5c-2322-41f9-a805-efe7ac5044eb",
   "metadata": {},
   "source": [
    "# Training a classifier on all datasets and establishing a regularization parameter"
   ]
  },
  {
   "cell_type": "code",
   "execution_count": 2,
   "id": "ddfedb3d-1205-4b3c-bbf5-3bf548a81ea8",
   "metadata": {},
   "outputs": [
    {
     "ename": "KeyboardInterrupt",
     "evalue": "",
     "output_type": "error",
     "traceback": [
      "\u001b[0;31m---------------------------------------------------------------------------\u001b[0m",
      "\u001b[0;31mKeyboardInterrupt\u001b[0m                         Traceback (most recent call last)",
      "Input \u001b[0;32mIn [2]\u001b[0m, in \u001b[0;36m<cell line: 4>\u001b[0;34m()\u001b[0m\n\u001b[1;32m      2\u001b[0m \u001b[38;5;28;01mimport\u001b[39;00m \u001b[38;5;21;01mpickle\u001b[39;00m\n\u001b[1;32m      3\u001b[0m \u001b[38;5;28;01mimport\u001b[39;00m \u001b[38;5;21;01mnumpy\u001b[39;00m \u001b[38;5;28;01mas\u001b[39;00m \u001b[38;5;21;01mnp\u001b[39;00m\n\u001b[0;32m----> 4\u001b[0m \u001b[38;5;28;01mimport\u001b[39;00m \u001b[38;5;21;01mxarray\u001b[39;00m \u001b[38;5;28;01mas\u001b[39;00m \u001b[38;5;21;01mxr\u001b[39;00m\n\u001b[1;32m      5\u001b[0m \u001b[38;5;28;01mfrom\u001b[39;00m \u001b[38;5;21;01msklearn\u001b[39;00m\u001b[38;5;21;01m.\u001b[39;00m\u001b[38;5;21;01mmodel_selection\u001b[39;00m \u001b[38;5;28;01mimport\u001b[39;00m GridSearchCV, GroupKFold\n\u001b[1;32m      6\u001b[0m \u001b[38;5;28;01mfrom\u001b[39;00m \u001b[38;5;21;01msklearn\u001b[39;00m\u001b[38;5;21;01m.\u001b[39;00m\u001b[38;5;21;01mlinear_model\u001b[39;00m \u001b[38;5;28;01mimport\u001b[39;00m LogisticRegression\n",
      "File \u001b[0;32m~/.conda/envs/model_learning/lib/python3.10/site-packages/xarray/__init__.py:1\u001b[0m, in \u001b[0;36m<module>\u001b[0;34m\u001b[0m\n\u001b[0;32m----> 1\u001b[0m \u001b[38;5;28;01mfrom\u001b[39;00m \u001b[38;5;21;01m.\u001b[39;00m \u001b[38;5;28;01mimport\u001b[39;00m testing, tutorial\n\u001b[1;32m      2\u001b[0m \u001b[38;5;28;01mfrom\u001b[39;00m \u001b[38;5;21;01m.\u001b[39;00m\u001b[38;5;21;01mbackends\u001b[39;00m\u001b[38;5;21;01m.\u001b[39;00m\u001b[38;5;21;01mapi\u001b[39;00m \u001b[38;5;28;01mimport\u001b[39;00m (\n\u001b[1;32m      3\u001b[0m     load_dataarray,\n\u001b[1;32m      4\u001b[0m     load_dataset,\n\u001b[0;32m   (...)\u001b[0m\n\u001b[1;32m      8\u001b[0m     save_mfdataset,\n\u001b[1;32m      9\u001b[0m )\n\u001b[1;32m     10\u001b[0m \u001b[38;5;28;01mfrom\u001b[39;00m \u001b[38;5;21;01m.\u001b[39;00m\u001b[38;5;21;01mbackends\u001b[39;00m\u001b[38;5;21;01m.\u001b[39;00m\u001b[38;5;21;01mrasterio_\u001b[39;00m \u001b[38;5;28;01mimport\u001b[39;00m open_rasterio\n",
      "File \u001b[0;32m~/.conda/envs/model_learning/lib/python3.10/site-packages/xarray/tutorial.py:16\u001b[0m, in \u001b[0;36m<module>\u001b[0;34m\u001b[0m\n\u001b[1;32m     12\u001b[0m \u001b[38;5;28;01mfrom\u001b[39;00m \u001b[38;5;21;01mtyping\u001b[39;00m \u001b[38;5;28;01mimport\u001b[39;00m TYPE_CHECKING\n\u001b[1;32m     14\u001b[0m \u001b[38;5;28;01mimport\u001b[39;00m \u001b[38;5;21;01mnumpy\u001b[39;00m \u001b[38;5;28;01mas\u001b[39;00m \u001b[38;5;21;01mnp\u001b[39;00m\n\u001b[0;32m---> 16\u001b[0m \u001b[38;5;28;01mfrom\u001b[39;00m \u001b[38;5;21;01m.\u001b[39;00m\u001b[38;5;21;01mbackends\u001b[39;00m\u001b[38;5;21;01m.\u001b[39;00m\u001b[38;5;21;01mapi\u001b[39;00m \u001b[38;5;28;01mimport\u001b[39;00m open_dataset \u001b[38;5;28;01mas\u001b[39;00m _open_dataset\n\u001b[1;32m     17\u001b[0m \u001b[38;5;28;01mfrom\u001b[39;00m \u001b[38;5;21;01m.\u001b[39;00m\u001b[38;5;21;01mbackends\u001b[39;00m\u001b[38;5;21;01m.\u001b[39;00m\u001b[38;5;21;01mrasterio_\u001b[39;00m \u001b[38;5;28;01mimport\u001b[39;00m open_rasterio \u001b[38;5;28;01mas\u001b[39;00m _open_rasterio\n\u001b[1;32m     18\u001b[0m \u001b[38;5;28;01mfrom\u001b[39;00m \u001b[38;5;21;01m.\u001b[39;00m\u001b[38;5;21;01mcore\u001b[39;00m\u001b[38;5;21;01m.\u001b[39;00m\u001b[38;5;21;01mdataarray\u001b[39;00m \u001b[38;5;28;01mimport\u001b[39;00m DataArray\n",
      "File \u001b[0;32m~/.conda/envs/model_learning/lib/python3.10/site-packages/xarray/backends/__init__.py:6\u001b[0m, in \u001b[0;36m<module>\u001b[0;34m\u001b[0m\n\u001b[1;32m      1\u001b[0m \u001b[38;5;124;03m\"\"\"Backend objects for saving and loading data\u001b[39;00m\n\u001b[1;32m      2\u001b[0m \n\u001b[1;32m      3\u001b[0m \u001b[38;5;124;03mDataStores provide a uniform interface for saving and loading data in different\u001b[39;00m\n\u001b[1;32m      4\u001b[0m \u001b[38;5;124;03mformats. They should not be used directly, but rather through Dataset objects.\u001b[39;00m\n\u001b[1;32m      5\u001b[0m \u001b[38;5;124;03m\"\"\"\u001b[39;00m\n\u001b[0;32m----> 6\u001b[0m \u001b[38;5;28;01mfrom\u001b[39;00m \u001b[38;5;21;01m.\u001b[39;00m\u001b[38;5;21;01mcfgrib_\u001b[39;00m \u001b[38;5;28;01mimport\u001b[39;00m CfGribDataStore\n\u001b[1;32m      7\u001b[0m \u001b[38;5;28;01mfrom\u001b[39;00m \u001b[38;5;21;01m.\u001b[39;00m\u001b[38;5;21;01mcommon\u001b[39;00m \u001b[38;5;28;01mimport\u001b[39;00m AbstractDataStore, BackendArray, BackendEntrypoint\n\u001b[1;32m      8\u001b[0m \u001b[38;5;28;01mfrom\u001b[39;00m \u001b[38;5;21;01m.\u001b[39;00m\u001b[38;5;21;01mfile_manager\u001b[39;00m \u001b[38;5;28;01mimport\u001b[39;00m CachingFileManager, DummyFileManager, FileManager\n",
      "File \u001b[0;32m~/.conda/envs/model_learning/lib/python3.10/site-packages/xarray/backends/cfgrib_.py:18\u001b[0m, in \u001b[0;36m<module>\u001b[0;34m\u001b[0m\n\u001b[1;32m     10\u001b[0m \u001b[38;5;28;01mfrom\u001b[39;00m \u001b[38;5;21;01m.\u001b[39;00m\u001b[38;5;21;01m.\u001b[39;00m\u001b[38;5;21;01mcore\u001b[39;00m\u001b[38;5;21;01m.\u001b[39;00m\u001b[38;5;21;01mvariable\u001b[39;00m \u001b[38;5;28;01mimport\u001b[39;00m Variable\n\u001b[1;32m     11\u001b[0m \u001b[38;5;28;01mfrom\u001b[39;00m \u001b[38;5;21;01m.\u001b[39;00m\u001b[38;5;21;01mcommon\u001b[39;00m \u001b[38;5;28;01mimport\u001b[39;00m (\n\u001b[1;32m     12\u001b[0m     BACKEND_ENTRYPOINTS,\n\u001b[1;32m     13\u001b[0m     AbstractDataStore,\n\u001b[0;32m   (...)\u001b[0m\n\u001b[1;32m     16\u001b[0m     _normalize_path,\n\u001b[1;32m     17\u001b[0m )\n\u001b[0;32m---> 18\u001b[0m \u001b[38;5;28;01mfrom\u001b[39;00m \u001b[38;5;21;01m.\u001b[39;00m\u001b[38;5;21;01mlocks\u001b[39;00m \u001b[38;5;28;01mimport\u001b[39;00m SerializableLock, ensure_lock\n\u001b[1;32m     19\u001b[0m \u001b[38;5;28;01mfrom\u001b[39;00m \u001b[38;5;21;01m.\u001b[39;00m\u001b[38;5;21;01mstore\u001b[39;00m \u001b[38;5;28;01mimport\u001b[39;00m StoreBackendEntrypoint\n\u001b[1;32m     21\u001b[0m \u001b[38;5;28;01mtry\u001b[39;00m:\n",
      "File \u001b[0;32m~/.conda/envs/model_learning/lib/python3.10/site-packages/xarray/backends/locks.py:15\u001b[0m, in \u001b[0;36m<module>\u001b[0;34m\u001b[0m\n\u001b[1;32m     12\u001b[0m     SerializableLock \u001b[38;5;241m=\u001b[39m threading\u001b[38;5;241m.\u001b[39mLock  \u001b[38;5;66;03m# type: ignore\u001b[39;00m\n\u001b[1;32m     14\u001b[0m \u001b[38;5;28;01mtry\u001b[39;00m:\n\u001b[0;32m---> 15\u001b[0m     \u001b[38;5;28;01mfrom\u001b[39;00m \u001b[38;5;21;01mdask\u001b[39;00m\u001b[38;5;21;01m.\u001b[39;00m\u001b[38;5;21;01mdistributed\u001b[39;00m \u001b[38;5;28;01mimport\u001b[39;00m Lock \u001b[38;5;28;01mas\u001b[39;00m DistributedLock\n\u001b[1;32m     16\u001b[0m \u001b[38;5;28;01mexcept\u001b[39;00m \u001b[38;5;167;01mImportError\u001b[39;00m:\n\u001b[1;32m     17\u001b[0m     DistributedLock \u001b[38;5;241m=\u001b[39m \u001b[38;5;28;01mNone\u001b[39;00m  \u001b[38;5;66;03m# type: ignore\u001b[39;00m\n",
      "File \u001b[0;32m~/.conda/envs/model_learning/lib/python3.10/site-packages/dask/distributed.py:11\u001b[0m, in \u001b[0;36m<module>\u001b[0;34m\u001b[0m\n\u001b[1;32m      3\u001b[0m _import_error_message \u001b[38;5;241m=\u001b[39m (\n\u001b[1;32m      4\u001b[0m     \u001b[38;5;124m\"\u001b[39m\u001b[38;5;124mdask.distributed is not installed.\u001b[39m\u001b[38;5;130;01m\\n\u001b[39;00m\u001b[38;5;130;01m\\n\u001b[39;00m\u001b[38;5;124m\"\u001b[39m\n\u001b[1;32m      5\u001b[0m     \u001b[38;5;124m\"\u001b[39m\u001b[38;5;124mPlease either conda or pip install distributed:\u001b[39m\u001b[38;5;130;01m\\n\u001b[39;00m\u001b[38;5;130;01m\\n\u001b[39;00m\u001b[38;5;124m\"\u001b[39m\n\u001b[1;32m      6\u001b[0m     \u001b[38;5;124m\"\u001b[39m\u001b[38;5;124m  conda install dask distributed             # either conda install\u001b[39m\u001b[38;5;130;01m\\n\u001b[39;00m\u001b[38;5;124m\"\u001b[39m\n\u001b[1;32m      7\u001b[0m     \u001b[38;5;124m'\u001b[39m\u001b[38;5;124m  python -m pip install \u001b[39m\u001b[38;5;124m\"\u001b[39m\u001b[38;5;124mdask[distributed]\u001b[39m\u001b[38;5;124m\"\u001b[39m\u001b[38;5;124m --upgrade    # or pip install\u001b[39m\u001b[38;5;124m'\u001b[39m\n\u001b[1;32m      8\u001b[0m )\n\u001b[1;32m     10\u001b[0m \u001b[38;5;28;01mtry\u001b[39;00m:\n\u001b[0;32m---> 11\u001b[0m     \u001b[38;5;28;01mfrom\u001b[39;00m \u001b[38;5;21;01mdistributed\u001b[39;00m \u001b[38;5;28;01mimport\u001b[39;00m \u001b[38;5;241m*\u001b[39m\n\u001b[1;32m     12\u001b[0m \u001b[38;5;28;01mexcept\u001b[39;00m \u001b[38;5;167;01mImportError\u001b[39;00m \u001b[38;5;28;01mas\u001b[39;00m e:\n\u001b[1;32m     13\u001b[0m     \u001b[38;5;28;01mif\u001b[39;00m e\u001b[38;5;241m.\u001b[39mmsg \u001b[38;5;241m==\u001b[39m \u001b[38;5;124m\"\u001b[39m\u001b[38;5;124mNo module named \u001b[39m\u001b[38;5;124m'\u001b[39m\u001b[38;5;124mdistributed\u001b[39m\u001b[38;5;124m'\u001b[39m\u001b[38;5;124m\"\u001b[39m:\n",
      "File \u001b[0;32m~/.conda/envs/model_learning/lib/python3.10/site-packages/distributed/__init__.py:2\u001b[0m, in \u001b[0;36m<module>\u001b[0;34m\u001b[0m\n\u001b[1;32m      1\u001b[0m \u001b[38;5;28;01mfrom\u001b[39;00m \u001b[38;5;21;01m.\u001b[39;00m \u001b[38;5;28;01mimport\u001b[39;00m config  \u001b[38;5;66;03m# isort:skip; load distributed configuration first\u001b[39;00m\n\u001b[0;32m----> 2\u001b[0m \u001b[38;5;28;01mfrom\u001b[39;00m \u001b[38;5;21;01m.\u001b[39;00m \u001b[38;5;28;01mimport\u001b[39;00m widgets  \u001b[38;5;66;03m# isort:skip; load distributed widgets second\u001b[39;00m\n\u001b[1;32m      5\u001b[0m \u001b[38;5;28;01mimport\u001b[39;00m \u001b[38;5;21;01mdask\u001b[39;00m\n\u001b[1;32m      6\u001b[0m \u001b[38;5;28;01mfrom\u001b[39;00m \u001b[38;5;21;01mdask\u001b[39;00m\u001b[38;5;21;01m.\u001b[39;00m\u001b[38;5;21;01mconfig\u001b[39;00m \u001b[38;5;28;01mimport\u001b[39;00m config  \u001b[38;5;66;03m# type: ignore\u001b[39;00m\n",
      "File \u001b[0;32m~/.conda/envs/model_learning/lib/python3.10/site-packages/distributed/widgets/__init__.py:5\u001b[0m, in \u001b[0;36m<module>\u001b[0;34m\u001b[0m\n\u001b[1;32m      1\u001b[0m \u001b[38;5;28;01mimport\u001b[39;00m \u001b[38;5;21;01mos\u001b[39;00m\u001b[38;5;21;01m.\u001b[39;00m\u001b[38;5;21;01mpath\u001b[39;00m\n\u001b[1;32m      3\u001b[0m \u001b[38;5;28;01mfrom\u001b[39;00m \u001b[38;5;21;01mdask\u001b[39;00m\u001b[38;5;21;01m.\u001b[39;00m\u001b[38;5;21;01mwidgets\u001b[39;00m \u001b[38;5;28;01mimport\u001b[39;00m FILTERS, TEMPLATE_PATHS\n\u001b[0;32m----> 5\u001b[0m \u001b[38;5;28;01mfrom\u001b[39;00m \u001b[38;5;21;01m.\u001b[39;00m\u001b[38;5;21;01m.\u001b[39;00m\u001b[38;5;21;01mutils\u001b[39;00m \u001b[38;5;28;01mimport\u001b[39;00m key_split\n\u001b[1;32m      7\u001b[0m TEMPLATE_PATHS\u001b[38;5;241m.\u001b[39mappend(\n\u001b[1;32m      8\u001b[0m     os\u001b[38;5;241m.\u001b[39mpath\u001b[38;5;241m.\u001b[39mjoin(os\u001b[38;5;241m.\u001b[39mpath\u001b[38;5;241m.\u001b[39mdirname(os\u001b[38;5;241m.\u001b[39mpath\u001b[38;5;241m.\u001b[39mabspath(\u001b[38;5;18m__file__\u001b[39m)), \u001b[38;5;124m\"\u001b[39m\u001b[38;5;124mtemplates\u001b[39m\u001b[38;5;124m\"\u001b[39m)\n\u001b[1;32m      9\u001b[0m )\n\u001b[1;32m     10\u001b[0m FILTERS[\u001b[38;5;124m\"\u001b[39m\u001b[38;5;124mkey_split\u001b[39m\u001b[38;5;124m\"\u001b[39m] \u001b[38;5;241m=\u001b[39m key_split\n",
      "File \u001b[0;32m~/.conda/envs/model_learning/lib/python3.10/site-packages/distributed/utils.py:34\u001b[0m, in \u001b[0;36m<module>\u001b[0;34m\u001b[0m\n\u001b[1;32m     31\u001b[0m \u001b[38;5;28;01mfrom\u001b[39;00m \u001b[38;5;21;01mtyping\u001b[39;00m \u001b[38;5;28;01mimport\u001b[39;00m Any \u001b[38;5;28;01mas\u001b[39;00m AnyType\n\u001b[1;32m     32\u001b[0m \u001b[38;5;28;01mfrom\u001b[39;00m \u001b[38;5;21;01mtyping\u001b[39;00m \u001b[38;5;28;01mimport\u001b[39;00m ClassVar\n\u001b[0;32m---> 34\u001b[0m \u001b[38;5;28;01mimport\u001b[39;00m \u001b[38;5;21;01mclick\u001b[39;00m\n\u001b[1;32m     35\u001b[0m \u001b[38;5;28;01mimport\u001b[39;00m \u001b[38;5;21;01mtblib\u001b[39;00m\u001b[38;5;21;01m.\u001b[39;00m\u001b[38;5;21;01mpickling_support\u001b[39;00m\n\u001b[1;32m     37\u001b[0m \u001b[38;5;28;01mtry\u001b[39;00m:\n",
      "File \u001b[0;32m~/.conda/envs/model_learning/lib/python3.10/site-packages/click/__init__.py:7\u001b[0m, in \u001b[0;36m<module>\u001b[0;34m\u001b[0m\n\u001b[1;32m      1\u001b[0m \u001b[38;5;124;03m\"\"\"\u001b[39;00m\n\u001b[1;32m      2\u001b[0m \u001b[38;5;124;03mClick is a simple Python module inspired by the stdlib optparse to make\u001b[39;00m\n\u001b[1;32m      3\u001b[0m \u001b[38;5;124;03mwriting command line scripts fun. Unlike other modules, it's based\u001b[39;00m\n\u001b[1;32m      4\u001b[0m \u001b[38;5;124;03maround a simple API that does not come with too much magic and is\u001b[39;00m\n\u001b[1;32m      5\u001b[0m \u001b[38;5;124;03mcomposable.\u001b[39;00m\n\u001b[1;32m      6\u001b[0m \u001b[38;5;124;03m\"\"\"\u001b[39;00m\n\u001b[0;32m----> 7\u001b[0m \u001b[38;5;28;01mfrom\u001b[39;00m \u001b[38;5;21;01m.\u001b[39;00m\u001b[38;5;21;01mcore\u001b[39;00m \u001b[38;5;28;01mimport\u001b[39;00m Argument \u001b[38;5;28;01mas\u001b[39;00m Argument\n\u001b[1;32m      8\u001b[0m \u001b[38;5;28;01mfrom\u001b[39;00m \u001b[38;5;21;01m.\u001b[39;00m\u001b[38;5;21;01mcore\u001b[39;00m \u001b[38;5;28;01mimport\u001b[39;00m BaseCommand \u001b[38;5;28;01mas\u001b[39;00m BaseCommand\n\u001b[1;32m      9\u001b[0m \u001b[38;5;28;01mfrom\u001b[39;00m \u001b[38;5;21;01m.\u001b[39;00m\u001b[38;5;21;01mcore\u001b[39;00m \u001b[38;5;28;01mimport\u001b[39;00m Command \u001b[38;5;28;01mas\u001b[39;00m Command\n",
      "File \u001b[0;32m~/.conda/envs/model_learning/lib/python3.10/site-packages/click/core.py:16\u001b[0m, in \u001b[0;36m<module>\u001b[0;34m\u001b[0m\n\u001b[1;32m     13\u001b[0m \u001b[38;5;28;01mfrom\u001b[39;00m \u001b[38;5;21;01mgettext\u001b[39;00m \u001b[38;5;28;01mimport\u001b[39;00m ngettext\n\u001b[1;32m     14\u001b[0m \u001b[38;5;28;01mfrom\u001b[39;00m \u001b[38;5;21;01mitertools\u001b[39;00m \u001b[38;5;28;01mimport\u001b[39;00m repeat\n\u001b[0;32m---> 16\u001b[0m \u001b[38;5;28;01mfrom\u001b[39;00m \u001b[38;5;21;01m.\u001b[39;00m \u001b[38;5;28;01mimport\u001b[39;00m types\n\u001b[1;32m     17\u001b[0m \u001b[38;5;28;01mfrom\u001b[39;00m \u001b[38;5;21;01m.\u001b[39;00m\u001b[38;5;21;01mexceptions\u001b[39;00m \u001b[38;5;28;01mimport\u001b[39;00m Abort\n\u001b[1;32m     18\u001b[0m \u001b[38;5;28;01mfrom\u001b[39;00m \u001b[38;5;21;01m.\u001b[39;00m\u001b[38;5;21;01mexceptions\u001b[39;00m \u001b[38;5;28;01mimport\u001b[39;00m BadParameter\n",
      "File \u001b[0;32m~/.conda/envs/model_learning/lib/python3.10/site-packages/click/types.py:11\u001b[0m, in \u001b[0;36m<module>\u001b[0;34m\u001b[0m\n\u001b[1;32m      9\u001b[0m \u001b[38;5;28;01mfrom\u001b[39;00m \u001b[38;5;21;01m.\u001b[39;00m\u001b[38;5;21;01m_compat\u001b[39;00m \u001b[38;5;28;01mimport\u001b[39;00m get_filesystem_encoding\n\u001b[1;32m     10\u001b[0m \u001b[38;5;28;01mfrom\u001b[39;00m \u001b[38;5;21;01m.\u001b[39;00m\u001b[38;5;21;01m_compat\u001b[39;00m \u001b[38;5;28;01mimport\u001b[39;00m open_stream\n\u001b[0;32m---> 11\u001b[0m \u001b[38;5;28;01mfrom\u001b[39;00m \u001b[38;5;21;01m.\u001b[39;00m\u001b[38;5;21;01mexceptions\u001b[39;00m \u001b[38;5;28;01mimport\u001b[39;00m BadParameter\n\u001b[1;32m     12\u001b[0m \u001b[38;5;28;01mfrom\u001b[39;00m \u001b[38;5;21;01m.\u001b[39;00m\u001b[38;5;21;01mutils\u001b[39;00m \u001b[38;5;28;01mimport\u001b[39;00m LazyFile\n\u001b[1;32m     13\u001b[0m \u001b[38;5;28;01mfrom\u001b[39;00m \u001b[38;5;21;01m.\u001b[39;00m\u001b[38;5;21;01mutils\u001b[39;00m \u001b[38;5;28;01mimport\u001b[39;00m safecall\n",
      "File \u001b[0;32m~/.conda/envs/model_learning/lib/python3.10/site-packages/click/exceptions.py:7\u001b[0m, in \u001b[0;36m<module>\u001b[0;34m\u001b[0m\n\u001b[1;32m      4\u001b[0m \u001b[38;5;28;01mfrom\u001b[39;00m \u001b[38;5;21;01mgettext\u001b[39;00m \u001b[38;5;28;01mimport\u001b[39;00m ngettext\n\u001b[1;32m      6\u001b[0m \u001b[38;5;28;01mfrom\u001b[39;00m \u001b[38;5;21;01m.\u001b[39;00m\u001b[38;5;21;01m_compat\u001b[39;00m \u001b[38;5;28;01mimport\u001b[39;00m get_text_stderr\n\u001b[0;32m----> 7\u001b[0m \u001b[38;5;28;01mfrom\u001b[39;00m \u001b[38;5;21;01m.\u001b[39;00m\u001b[38;5;21;01mutils\u001b[39;00m \u001b[38;5;28;01mimport\u001b[39;00m echo\n\u001b[1;32m      9\u001b[0m \u001b[38;5;28;01mif\u001b[39;00m t\u001b[38;5;241m.\u001b[39mTYPE_CHECKING:\n\u001b[1;32m     10\u001b[0m     \u001b[38;5;28;01mfrom\u001b[39;00m \u001b[38;5;21;01m.\u001b[39;00m\u001b[38;5;21;01mcore\u001b[39;00m \u001b[38;5;28;01mimport\u001b[39;00m Context\n",
      "File \u001b[0;32m<frozen importlib._bootstrap>:1027\u001b[0m, in \u001b[0;36m_find_and_load\u001b[0;34m(name, import_)\u001b[0m\n",
      "File \u001b[0;32m<frozen importlib._bootstrap>:1006\u001b[0m, in \u001b[0;36m_find_and_load_unlocked\u001b[0;34m(name, import_)\u001b[0m\n",
      "File \u001b[0;32m<frozen importlib._bootstrap>:688\u001b[0m, in \u001b[0;36m_load_unlocked\u001b[0;34m(spec)\u001b[0m\n",
      "File \u001b[0;32m<frozen importlib._bootstrap_external>:879\u001b[0m, in \u001b[0;36mexec_module\u001b[0;34m(self, module)\u001b[0m\n",
      "File \u001b[0;32m<frozen importlib._bootstrap_external>:975\u001b[0m, in \u001b[0;36mget_code\u001b[0;34m(self, fullname)\u001b[0m\n",
      "File \u001b[0;32m<frozen importlib._bootstrap_external>:1074\u001b[0m, in \u001b[0;36mget_data\u001b[0;34m(self, path)\u001b[0m\n",
      "\u001b[0;31mKeyboardInterrupt\u001b[0m: "
     ]
    }
   ],
   "source": [
    "import os\n",
    "import pickle\n",
    "import numpy as np\n",
    "import xarray as xr\n",
    "from sklearn.model_selection import GridSearchCV, GroupKFold\n",
    "from sklearn.linear_model import LogisticRegression\n",
    "from sklearn.utils import shuffle\n",
    "\n",
    "import core.core_functions as cf\n",
    "import core.dataset_categories as dc\n",
    "import core.plot_functions as pf\n",
    "\n",
    "land_masked = True\n",
    "global_mean = True\n",
    "# set to a not-None value to draw the same random samples for repeated calls\n",
    "random_init = 6546"
   ]
  },
  {
   "cell_type": "markdown",
   "id": "965f377d-2125-4558-87a7-c2ae660336fb",
   "metadata": {},
   "source": [
    "## Load and prepare training samples"
   ]
  },
  {
   "cell_type": "code",
   "execution_count": null,
   "id": "d69bb5ba-c03e-4ed1-9862-4a9df0dbc69c",
   "metadata": {},
   "outputs": [],
   "source": [
    "# NOTE: we want the same amount of samples in the observation and the model category\n",
    "# therefore we call get_samples separately for both categories and change the number\n",
    "# of time steps selected\n",
    "samples_model = cf.get_samples(\n",
    "    period=slice('1984', '2001'), \n",
    "    land_masked=land_masked,\n",
    "    global_mean=global_mean,\n",
    "    time_steps=200, \n",
    "    random_init=random_init, \n",
    "    verbose=True, \n",
    "    datasets=dc.model_names,  # 43 models\n",
    ")\n",
    "\n",
    "samples_obs = cf.get_samples(\n",
    "    period=slice('1984', '2001'), \n",
    "    land_masked=land_masked,\n",
    "    global_mean=global_mean,\n",
    "    time_steps=2150,  # 200*43/4\n",
    "    random_init=random_init, \n",
    "    verbose=True,\n",
    "    datasets=dc.observation_names,  # 4 observations\n",
    ")\n",
    "\n",
    "samples = xr.concat([samples_model, samples_obs], dim='sample')"
   ]
  },
  {
   "cell_type": "code",
   "execution_count": null,
   "id": "82f6a790-79c5-42a6-8856-aea959c27cbf",
   "metadata": {},
   "outputs": [],
   "source": [
    "XX = samples.values\n",
    "yy = dc.get_category_ids(samples['dataset_name'].values)\n",
    "\n",
    "nan_mask = np.any(np.isnan(XX), axis=0)\n",
    "XX = XX[:, ~nan_mask]\n",
    "\n",
    "print('Number of features:', XX.shape[1])\n",
    "print('Number of samples per category:', ', '.join(np.unique(yy, return_counts=True)[1]))"
   ]
  },
  {
   "cell_type": "markdown",
   "id": "658cbb8d-c9d5-49da-91e9-1cbe45cafb1c",
   "metadata": {},
   "source": [
    "## Set up cross validation to establish regularization"
   ]
  },
  {
   "cell_type": "code",
   "execution_count": null,
   "id": "9c10bfae-3107-4c9c-b4a1-d0b9bfde275b",
   "metadata": {},
   "outputs": [],
   "source": [
    "logreg = LogisticRegression(penalty='l2', solver='liblinear')\n",
    "grid = {'C': np.logspace(-5, -1, 20)}\n",
    "\n",
    "# 5-fold cross validation on shuffled training data\n",
    "XX, yy = shuffle(XX, yy, random_state=random_init)\n",
    "cv = 5\n",
    "\n",
    "# alternatively we could do folds for each dataset of dataset group\n",
    "# this is very slow though\n",
    "# groups = samples['dataset_name'].values  # one fold for each dataset\n",
    "# groups = dc.get_groups(samples['dataset_name'].values)  # one fold for each group\n",
    "# cv = GroupKFold(n_splits=len(np.unique(groups)))\n",
    "# print('Number of dataset groups (=folds):', cv.n_splits)\n",
    "# cv.split(XX, yy, groups)\n",
    "\n",
    "logreg_cv = GridSearchCV(\n",
    "    estimator=logreg, \n",
    "    param_grid=grid, \n",
    "    cv=cv, \n",
    "    n_jobs=20, \n",
    "    return_train_score=True,\n",
    ")"
   ]
  },
  {
   "cell_type": "markdown",
   "id": "a441189e-fcc1-430f-8a6f-d354045b3be4",
   "metadata": {},
   "source": [
    "## Train classifier"
   ]
  },
  {
   "cell_type": "code",
   "execution_count": null,
   "id": "b483f796-80b0-45a7-abec-b1dfc3a5b282",
   "metadata": {},
   "outputs": [],
   "source": [
    "logreg_cv.fit(XX, yy)\n",
    "print(f'{logreg_cv.best_params_=}')"
   ]
  },
  {
   "cell_type": "markdown",
   "id": "d43400ec-aea5-452e-9832-dea033e287c0",
   "metadata": {},
   "source": [
    "## Save trained classifier"
   ]
  },
  {
   "cell_type": "code",
   "execution_count": null,
   "id": "acfef713-d917-4a25-92ee-020b029b624a",
   "metadata": {},
   "outputs": [],
   "source": [
    "savename =  'logreg{}.sav'.format(('_lm' if land_masked else '') + ('_gm' if global_mean else ''))\n",
    "pickle.dump(\n",
    "    logreg_cv.best_estimator_, \n",
    "    open(os.path.join('trained_classifiers', savename), 'wb'))"
   ]
  },
  {
   "cell_type": "markdown",
   "id": "9b2d6c16-bfdb-4452-a377-5d27761877ca",
   "metadata": {},
   "source": [
    "## Training accuracy"
   ]
  },
  {
   "cell_type": "code",
   "execution_count": null,
   "id": "37ad117b-c0f8-491c-b5d6-c1caa1614a43",
   "metadata": {},
   "outputs": [],
   "source": [
    "logreg_cv.score(XX, yy)"
   ]
  },
  {
   "cell_type": "markdown",
   "id": "a0c7dbfc-a09d-4645-962d-ef381524733a",
   "metadata": {},
   "source": [
    "## Plot classifier properties"
   ]
  },
  {
   "cell_type": "markdown",
   "id": "6dab5ff6-3439-44b8-ae41-7e07fdc890e1",
   "metadata": {},
   "source": [
    "### Regularization strength"
   ]
  },
  {
   "cell_type": "code",
   "execution_count": null,
   "id": "65d51fb3-9bb1-4fbc-9344-8646513b652a",
   "metadata": {},
   "outputs": [],
   "source": [
    "pf.plot_hyper_param(logreg_cv, 'C', xscale='log')"
   ]
  },
  {
   "cell_type": "markdown",
   "id": "52e9a2da-065b-4c14-af22-a8f7f7c51072",
   "metadata": {},
   "source": [
    "### Regression weights"
   ]
  },
  {
   "cell_type": "code",
   "execution_count": null,
   "id": "4c04090c-b69d-4519-a946-2aaf17d74d5c",
   "metadata": {},
   "outputs": [],
   "source": [
    "pf.plot_coef_map(logreg_cv.best_estimator_)"
   ]
  },
  {
   "cell_type": "markdown",
   "id": "a723df0d-05fb-43ef-881b-af4c710c3896",
   "metadata": {},
   "source": [
    "## Reliability diagram"
   ]
  },
  {
   "cell_type": "code",
   "execution_count": null,
   "id": "32e10118-4bab-4f0e-901b-8debd6554259",
   "metadata": {},
   "outputs": [],
   "source": [
    "pf.plot_reliability_diagram(logreg_cv, XX, yy)"
   ]
  }
 ],
 "metadata": {
  "kernelspec": {
   "display_name": "Model Learning",
   "language": "python",
   "name": "model_learning"
  },
  "language_info": {
   "codemirror_mode": {
    "name": "ipython",
    "version": 3
   },
   "file_extension": ".py",
   "mimetype": "text/x-python",
   "name": "python",
   "nbconvert_exporter": "python",
   "pygments_lexer": "ipython3",
   "version": "3.10.6"
  }
 },
 "nbformat": 4,
 "nbformat_minor": 5
}
